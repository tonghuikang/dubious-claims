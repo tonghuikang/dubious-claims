{
 "cells": [
  {
   "cell_type": "markdown",
   "metadata": {},
   "source": [
    "# Insert article text here"
   ]
  },
  {
   "cell_type": "code",
   "execution_count": null,
   "metadata": {},
   "outputs": [],
   "source": [
    "article_text = \"\"\"This is a multiline string. \n",
    "This can contain many sentences.\n",
    "Clean this text afterward. \n",
    "Can load from a text file also.\"\""
   ]
  },
  {
   "cell_type": "code",
   "execution_count": null,
   "metadata": {},
   "outputs": [],
   "source": [
    "# article_text = clean(article_text) # to implement with some package from nltk"
   ]
  },
  {
   "cell_type": "markdown",
   "metadata": {},
   "source": [
    "# Loading list of dubious claims"
   ]
  },
  {
   "cell_type": "code",
   "execution_count": null,
   "metadata": {},
   "outputs": [],
   "source": [
    "dubious_claims_list = [\"This is a list of dubious claims.\", \"Since it is processed by us, it is a list\"]"
   ]
  },
  {
   "cell_type": "markdown",
   "metadata": {},
   "source": [
    "# Extracting information from the text"
   ]
  },
  {
   "cell_type": "code",
   "execution_count": null,
   "metadata": {},
   "outputs": [],
   "source": [
    "# output should be a list of three element list.\n",
    "# [['Barack Obama', ' was', ' born'], ['Barack Obama', ' was born in', ' Hawaii']]\n",
    "\n",
    "# article_claims = stanfordIE(article_text)\n",
    "# dubious_claims = stanfordIE(dubious_claims)"
   ]
  },
  {
   "cell_type": "markdown",
   "metadata": {},
   "source": [
    "# Comparison of similarity"
   ]
  },
  {
   "cell_type": "code",
   "execution_count": null,
   "metadata": {},
   "outputs": [],
   "source": [
    "matrix_of_SIF_similarity = SIF_compare(article_claims,dubious_claims)\n",
    "plt.imshow(matrix_of_SIF_similarity)\n",
    "# label x and y labels with the claims in fine print"
   ]
  },
  {
   "cell_type": "code",
   "execution_count": null,
   "metadata": {},
   "outputs": [],
   "source": [
    "matrix_of_InferSent_similarity = SIF_compare(article_claims,dubious_claims)\n",
    "plt.imshow(matrix_of_InferSent_similarity)\n",
    "# label x and y labels with the claims in fine print"
   ]
  },
  {
   "cell_type": "code",
   "execution_count": null,
   "metadata": {},
   "outputs": [],
   "source": []
  }
 ],
 "metadata": {
  "kernelspec": {
   "display_name": "Python [conda env:nd]",
   "language": "python",
   "name": "conda-env-nd-py"
  },
  "language_info": {
   "codemirror_mode": {
    "name": "ipython",
    "version": 3
   },
   "file_extension": ".py",
   "mimetype": "text/x-python",
   "name": "python",
   "nbconvert_exporter": "python",
   "pygments_lexer": "ipython3",
   "version": "3.6.5"
  }
 },
 "nbformat": 4,
 "nbformat_minor": 2
}
